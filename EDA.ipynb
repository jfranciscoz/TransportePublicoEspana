{
 "cells": [
  {
   "cell_type": "markdown",
   "id": "81b03e88-f556-4e14-9858-435e747e9369",
   "metadata": {},
   "source": [
    "# Análisis exploratorio inicial:\n",
    "Tarea de exploración para familiarizarse con el tipo de base de datos."
   ]
  },
  {
   "cell_type": "code",
   "execution_count": 31,
   "id": "01e9ec3d-bf83-4e9b-8805-275d02aa731c",
   "metadata": {},
   "outputs": [],
   "source": [
    "import pandas as pd\n",
    "import numpy as np\n",
    "import seaborn as sns\n",
    "import matplotlib.pyplot as plt\n",
    "df = pd.read_csv('Transporte_Publico_Espana.csv')"
   ]
  },
  {
   "cell_type": "markdown",
   "id": "b088b064-e322-4121-8226-be202376acef",
   "metadata": {},
   "source": [
    "Primero quiero ver la base de datos tal cual es."
   ]
  },
  {
   "cell_type": "code",
   "execution_count": 23,
   "id": "98c4b224-4cc3-473e-a477-fdac7b22c3c5",
   "metadata": {},
   "outputs": [
    {
     "data": {
      "text/html": [
       "<div>\n",
       "<style scoped>\n",
       "    .dataframe tbody tr th:only-of-type {\n",
       "        vertical-align: middle;\n",
       "    }\n",
       "\n",
       "    .dataframe tbody tr th {\n",
       "        vertical-align: top;\n",
       "    }\n",
       "\n",
       "    .dataframe thead th {\n",
       "        text-align: right;\n",
       "    }\n",
       "</style>\n",
       "<table border=\"1\" class=\"dataframe\">\n",
       "  <thead>\n",
       "    <tr style=\"text-align: right;\">\n",
       "      <th></th>\n",
       "      <th>ID_Viaje</th>\n",
       "      <th>Fecha</th>\n",
       "      <th>Ruta</th>\n",
       "      <th>Numero_Pasajeros</th>\n",
       "      <th>Duracion_Viaje_Minutos</th>\n",
       "      <th>Retraso_Minutos</th>\n",
       "      <th>Tipo_Transporte</th>\n",
       "      <th>Region</th>\n",
       "      <th>Dia_Semana</th>\n",
       "    </tr>\n",
       "  </thead>\n",
       "  <tbody>\n",
       "    <tr>\n",
       "      <th>0</th>\n",
       "      <td>1</td>\n",
       "      <td>2023-01-01 00:00:00</td>\n",
       "      <td>Barcelona - Bilbao</td>\n",
       "      <td>NaN</td>\n",
       "      <td>not_available</td>\n",
       "      <td>999</td>\n",
       "      <td>Tranvía</td>\n",
       "      <td>Sevilla</td>\n",
       "      <td>Sunday</td>\n",
       "    </tr>\n",
       "    <tr>\n",
       "      <th>21300</th>\n",
       "      <td>21301</td>\n",
       "      <td>2023-01-15 19:00:00</td>\n",
       "      <td>Madrid - Malaga</td>\n",
       "      <td>NaN</td>\n",
       "      <td>not_available</td>\n",
       "      <td>114</td>\n",
       "      <td>Tranvía</td>\n",
       "      <td>Zaragoza</td>\n",
       "      <td>Sunday</td>\n",
       "    </tr>\n",
       "    <tr>\n",
       "      <th>21000</th>\n",
       "      <td>21001</td>\n",
       "      <td>2023-01-15 14:00:00</td>\n",
       "      <td>Barcelona - Bilbao</td>\n",
       "      <td>NaN</td>\n",
       "      <td>not_available</td>\n",
       "      <td>999</td>\n",
       "      <td>Tren</td>\n",
       "      <td>Zaragoza</td>\n",
       "      <td>Sunday</td>\n",
       "    </tr>\n",
       "    <tr>\n",
       "      <th>75900</th>\n",
       "      <td>75901</td>\n",
       "      <td>2023-02-22 17:00:00</td>\n",
       "      <td>Madrid - Malaga</td>\n",
       "      <td>NaN</td>\n",
       "      <td>not_available</td>\n",
       "      <td>105</td>\n",
       "      <td>Tren</td>\n",
       "      <td>Zaragoza</td>\n",
       "      <td>Wednesday</td>\n",
       "    </tr>\n",
       "    <tr>\n",
       "      <th>52800</th>\n",
       "      <td>52801</td>\n",
       "      <td>2023-02-06 16:00:00</td>\n",
       "      <td>Malaga - Sevilla</td>\n",
       "      <td>NaN</td>\n",
       "      <td>not_available</td>\n",
       "      <td>999</td>\n",
       "      <td>Autobús</td>\n",
       "      <td>Barcelona</td>\n",
       "      <td>Monday</td>\n",
       "    </tr>\n",
       "    <tr>\n",
       "      <th>41100</th>\n",
       "      <td>41101</td>\n",
       "      <td>2023-01-29 13:00:00</td>\n",
       "      <td>Zaragoza - Barcelona</td>\n",
       "      <td>NaN</td>\n",
       "      <td>not_available</td>\n",
       "      <td>65</td>\n",
       "      <td>Autobús</td>\n",
       "      <td>Malaga</td>\n",
       "      <td>Sunday</td>\n",
       "    </tr>\n",
       "    <tr>\n",
       "      <th>76200</th>\n",
       "      <td>76201</td>\n",
       "      <td>2023-02-22 22:00:00</td>\n",
       "      <td>Madrid - Malaga</td>\n",
       "      <td>NaN</td>\n",
       "      <td>not_available</td>\n",
       "      <td>999</td>\n",
       "      <td>Tren</td>\n",
       "      <td>Valencia</td>\n",
       "      <td>Wednesday</td>\n",
       "    </tr>\n",
       "    <tr>\n",
       "      <th>20700</th>\n",
       "      <td>20701</td>\n",
       "      <td>2023-01-15 09:00:00</td>\n",
       "      <td>Barcelona - Valencia</td>\n",
       "      <td>NaN</td>\n",
       "      <td>not_available</td>\n",
       "      <td>39</td>\n",
       "      <td>Metro</td>\n",
       "      <td>Malaga</td>\n",
       "      <td>Sunday</td>\n",
       "    </tr>\n",
       "    <tr>\n",
       "      <th>52500</th>\n",
       "      <td>52501</td>\n",
       "      <td>2023-02-06 11:00:00</td>\n",
       "      <td>Bilbao - Madrid</td>\n",
       "      <td>NaN</td>\n",
       "      <td>not_available</td>\n",
       "      <td>78</td>\n",
       "      <td>Autobús</td>\n",
       "      <td>Valencia</td>\n",
       "      <td>Monday</td>\n",
       "    </tr>\n",
       "    <tr>\n",
       "      <th>76500</th>\n",
       "      <td>76501</td>\n",
       "      <td>2023-02-23 03:00:00</td>\n",
       "      <td>Barcelona - Bilbao</td>\n",
       "      <td>NaN</td>\n",
       "      <td>not_available</td>\n",
       "      <td>83</td>\n",
       "      <td>Tren</td>\n",
       "      <td>Valencia</td>\n",
       "      <td>Thursday</td>\n",
       "    </tr>\n",
       "  </tbody>\n",
       "</table>\n",
       "</div>"
      ],
      "text/plain": [
       "       ID_Viaje                Fecha                  Ruta  Numero_Pasajeros  \\\n",
       "0             1  2023-01-01 00:00:00    Barcelona - Bilbao               NaN   \n",
       "21300     21301  2023-01-15 19:00:00       Madrid - Malaga               NaN   \n",
       "21000     21001  2023-01-15 14:00:00    Barcelona - Bilbao               NaN   \n",
       "75900     75901  2023-02-22 17:00:00       Madrid - Malaga               NaN   \n",
       "52800     52801  2023-02-06 16:00:00      Malaga - Sevilla               NaN   \n",
       "41100     41101  2023-01-29 13:00:00  Zaragoza - Barcelona               NaN   \n",
       "76200     76201  2023-02-22 22:00:00       Madrid - Malaga               NaN   \n",
       "20700     20701  2023-01-15 09:00:00  Barcelona - Valencia               NaN   \n",
       "52500     52501  2023-02-06 11:00:00       Bilbao - Madrid               NaN   \n",
       "76500     76501  2023-02-23 03:00:00    Barcelona - Bilbao               NaN   \n",
       "\n",
       "      Duracion_Viaje_Minutos  Retraso_Minutos Tipo_Transporte     Region  \\\n",
       "0              not_available              999         Tranvía    Sevilla   \n",
       "21300          not_available              114         Tranvía   Zaragoza   \n",
       "21000          not_available              999            Tren   Zaragoza   \n",
       "75900          not_available              105            Tren   Zaragoza   \n",
       "52800          not_available              999         Autobús  Barcelona   \n",
       "41100          not_available               65         Autobús     Malaga   \n",
       "76200          not_available              999            Tren   Valencia   \n",
       "20700          not_available               39           Metro     Malaga   \n",
       "52500          not_available               78         Autobús   Valencia   \n",
       "76500          not_available               83            Tren   Valencia   \n",
       "\n",
       "      Dia_Semana  \n",
       "0         Sunday  \n",
       "21300     Sunday  \n",
       "21000     Sunday  \n",
       "75900  Wednesday  \n",
       "52800     Monday  \n",
       "41100     Sunday  \n",
       "76200  Wednesday  \n",
       "20700     Sunday  \n",
       "52500     Monday  \n",
       "76500   Thursday  "
      ]
     },
     "execution_count": 23,
     "metadata": {},
     "output_type": "execute_result"
    }
   ],
   "source": [
    "df.sort_values(by='Duracion_Viaje_Minutos',ascending=False).head(10)"
   ]
  },
  {
   "cell_type": "markdown",
   "id": "92de1f2f-653e-4451-9079-21c3463c3323",
   "metadata": {},
   "source": [
    "Usar algunas formulas que me resuman algunas características clave de la bbdd."
   ]
  },
  {
   "cell_type": "code",
   "execution_count": 3,
   "id": "6b267a75-f3d2-4c0d-9d2c-230b6955ba53",
   "metadata": {},
   "outputs": [
    {
     "name": "stdout",
     "output_type": "stream",
     "text": [
      "<class 'pandas.core.frame.DataFrame'>\n",
      "RangeIndex: 100100 entries, 0 to 100099\n",
      "Data columns (total 9 columns):\n",
      " #   Column                  Non-Null Count   Dtype  \n",
      "---  ------                  --------------   -----  \n",
      " 0   ID_Viaje                100100 non-null  int64  \n",
      " 1   Fecha                   100100 non-null  object \n",
      " 2   Ruta                    100100 non-null  object \n",
      " 3   Numero_Pasajeros        99099 non-null   float64\n",
      " 4   Duracion_Viaje_Minutos  99767 non-null   object \n",
      " 5   Retraso_Minutos         100100 non-null  int64  \n",
      " 6   Tipo_Transporte         100100 non-null  object \n",
      " 7   Region                  100100 non-null  object \n",
      " 8   Dia_Semana              100100 non-null  object \n",
      "dtypes: float64(1), int64(2), object(6)\n",
      "memory usage: 6.9+ MB\n"
     ]
    }
   ],
   "source": [
    "df.info()"
   ]
  },
  {
   "cell_type": "code",
   "execution_count": 24,
   "id": "fba39236-1a7b-4764-9bc9-3f7a4b18caf6",
   "metadata": {},
   "outputs": [
    {
     "data": {
      "text/html": [
       "<div>\n",
       "<style scoped>\n",
       "    .dataframe tbody tr th:only-of-type {\n",
       "        vertical-align: middle;\n",
       "    }\n",
       "\n",
       "    .dataframe tbody tr th {\n",
       "        vertical-align: top;\n",
       "    }\n",
       "\n",
       "    .dataframe thead th {\n",
       "        text-align: right;\n",
       "    }\n",
       "</style>\n",
       "<table border=\"1\" class=\"dataframe\">\n",
       "  <thead>\n",
       "    <tr style=\"text-align: right;\">\n",
       "      <th></th>\n",
       "      <th>ID_Viaje</th>\n",
       "      <th>Numero_Pasajeros</th>\n",
       "      <th>Retraso_Minutos</th>\n",
       "    </tr>\n",
       "  </thead>\n",
       "  <tbody>\n",
       "    <tr>\n",
       "      <th>count</th>\n",
       "      <td>100100.000000</td>\n",
       "      <td>99099.000000</td>\n",
       "      <td>100100.000000</td>\n",
       "    </tr>\n",
       "    <tr>\n",
       "      <th>mean</th>\n",
       "      <td>49950.599900</td>\n",
       "      <td>54.465171</td>\n",
       "      <td>64.044685</td>\n",
       "    </tr>\n",
       "    <tr>\n",
       "      <th>std</th>\n",
       "      <td>28896.352622</td>\n",
       "      <td>25.956460</td>\n",
       "      <td>74.795155</td>\n",
       "    </tr>\n",
       "    <tr>\n",
       "      <th>min</th>\n",
       "      <td>1.000000</td>\n",
       "      <td>10.000000</td>\n",
       "      <td>0.000000</td>\n",
       "    </tr>\n",
       "    <tr>\n",
       "      <th>25%</th>\n",
       "      <td>24925.750000</td>\n",
       "      <td>32.000000</td>\n",
       "      <td>29.000000</td>\n",
       "    </tr>\n",
       "    <tr>\n",
       "      <th>50%</th>\n",
       "      <td>49950.500000</td>\n",
       "      <td>54.000000</td>\n",
       "      <td>59.000000</td>\n",
       "    </tr>\n",
       "    <tr>\n",
       "      <th>75%</th>\n",
       "      <td>74975.250000</td>\n",
       "      <td>77.000000</td>\n",
       "      <td>90.000000</td>\n",
       "    </tr>\n",
       "    <tr>\n",
       "      <th>max</th>\n",
       "      <td>100000.000000</td>\n",
       "      <td>99.000000</td>\n",
       "      <td>999.000000</td>\n",
       "    </tr>\n",
       "  </tbody>\n",
       "</table>\n",
       "</div>"
      ],
      "text/plain": [
       "            ID_Viaje  Numero_Pasajeros  Retraso_Minutos\n",
       "count  100100.000000      99099.000000    100100.000000\n",
       "mean    49950.599900         54.465171        64.044685\n",
       "std     28896.352622         25.956460        74.795155\n",
       "min         1.000000         10.000000         0.000000\n",
       "25%     24925.750000         32.000000        29.000000\n",
       "50%     49950.500000         54.000000        59.000000\n",
       "75%     74975.250000         77.000000        90.000000\n",
       "max    100000.000000         99.000000       999.000000"
      ]
     },
     "execution_count": 24,
     "metadata": {},
     "output_type": "execute_result"
    }
   ],
   "source": [
    "df.describe()"
   ]
  },
  {
   "cell_type": "markdown",
   "id": "5650f946-7915-4763-ab00-18e72a8adbc0",
   "metadata": {},
   "source": [
    "Tarea para saber más detalles específicos."
   ]
  },
  {
   "cell_type": "code",
   "execution_count": 21,
   "id": "e2e572f3-ec87-4fcd-a1be-46fa40ce5454",
   "metadata": {},
   "outputs": [
    {
     "data": {
      "text/html": [
       "<div>\n",
       "<style scoped>\n",
       "    .dataframe tbody tr th:only-of-type {\n",
       "        vertical-align: middle;\n",
       "    }\n",
       "\n",
       "    .dataframe tbody tr th {\n",
       "        vertical-align: top;\n",
       "    }\n",
       "\n",
       "    .dataframe thead th {\n",
       "        text-align: right;\n",
       "    }\n",
       "</style>\n",
       "<table border=\"1\" class=\"dataframe\">\n",
       "  <thead>\n",
       "    <tr style=\"text-align: right;\">\n",
       "      <th></th>\n",
       "      <th>Region</th>\n",
       "      <th>counts_Reg</th>\n",
       "      <th>Tipo_Transporte</th>\n",
       "      <th>counts_Tipo</th>\n",
       "      <th>Ruta</th>\n",
       "      <th>counts_Ruta</th>\n",
       "    </tr>\n",
       "  </thead>\n",
       "  <tbody>\n",
       "    <tr>\n",
       "      <th>0</th>\n",
       "      <td>Sevilla</td>\n",
       "      <td>14423</td>\n",
       "      <td>Tranvía</td>\n",
       "      <td>25084</td>\n",
       "      <td>Barcelona - Bilbao</td>\n",
       "      <td>10201</td>\n",
       "    </tr>\n",
       "    <tr>\n",
       "      <th>1</th>\n",
       "      <td>Barcelona</td>\n",
       "      <td>14386</td>\n",
       "      <td>Tren</td>\n",
       "      <td>25078</td>\n",
       "      <td>Malaga - Sevilla</td>\n",
       "      <td>10154</td>\n",
       "    </tr>\n",
       "    <tr>\n",
       "      <th>2</th>\n",
       "      <td>Madrid</td>\n",
       "      <td>14323</td>\n",
       "      <td>Autobús</td>\n",
       "      <td>24971</td>\n",
       "      <td>Madrid - Zaragoza</td>\n",
       "      <td>10060</td>\n",
       "    </tr>\n",
       "    <tr>\n",
       "      <th>3</th>\n",
       "      <td>Malaga</td>\n",
       "      <td>14281</td>\n",
       "      <td>Metro</td>\n",
       "      <td>24967</td>\n",
       "      <td>Sevilla - Madrid</td>\n",
       "      <td>10045</td>\n",
       "    </tr>\n",
       "    <tr>\n",
       "      <th>4</th>\n",
       "      <td>Valencia</td>\n",
       "      <td>14274</td>\n",
       "      <td>None</td>\n",
       "      <td>None</td>\n",
       "      <td>Madrid - Malaga</td>\n",
       "      <td>10009</td>\n",
       "    </tr>\n",
       "    <tr>\n",
       "      <th>5</th>\n",
       "      <td>Zaragoza</td>\n",
       "      <td>14221</td>\n",
       "      <td>None</td>\n",
       "      <td>None</td>\n",
       "      <td>Madrid - Barcelona</td>\n",
       "      <td>9968</td>\n",
       "    </tr>\n",
       "    <tr>\n",
       "      <th>6</th>\n",
       "      <td>Bilbao</td>\n",
       "      <td>14192</td>\n",
       "      <td>None</td>\n",
       "      <td>None</td>\n",
       "      <td>Bilbao - Madrid</td>\n",
       "      <td>9955</td>\n",
       "    </tr>\n",
       "    <tr>\n",
       "      <th>7</th>\n",
       "      <td>None</td>\n",
       "      <td>None</td>\n",
       "      <td>None</td>\n",
       "      <td>None</td>\n",
       "      <td>Valencia - Sevilla</td>\n",
       "      <td>9935</td>\n",
       "    </tr>\n",
       "    <tr>\n",
       "      <th>8</th>\n",
       "      <td>None</td>\n",
       "      <td>None</td>\n",
       "      <td>None</td>\n",
       "      <td>None</td>\n",
       "      <td>Barcelona - Valencia</td>\n",
       "      <td>9931</td>\n",
       "    </tr>\n",
       "    <tr>\n",
       "      <th>9</th>\n",
       "      <td>None</td>\n",
       "      <td>None</td>\n",
       "      <td>None</td>\n",
       "      <td>None</td>\n",
       "      <td>Zaragoza - Barcelona</td>\n",
       "      <td>9842</td>\n",
       "    </tr>\n",
       "  </tbody>\n",
       "</table>\n",
       "</div>"
      ],
      "text/plain": [
       "      Region counts_Reg Tipo_Transporte counts_Tipo                  Ruta  \\\n",
       "0    Sevilla      14423         Tranvía       25084    Barcelona - Bilbao   \n",
       "1  Barcelona      14386            Tren       25078      Malaga - Sevilla   \n",
       "2     Madrid      14323         Autobús       24971     Madrid - Zaragoza   \n",
       "3     Malaga      14281           Metro       24967      Sevilla - Madrid   \n",
       "4   Valencia      14274            None        None       Madrid - Malaga   \n",
       "5   Zaragoza      14221            None        None    Madrid - Barcelona   \n",
       "6     Bilbao      14192            None        None       Bilbao - Madrid   \n",
       "7       None       None            None        None    Valencia - Sevilla   \n",
       "8       None       None            None        None  Barcelona - Valencia   \n",
       "9       None       None            None        None  Zaragoza - Barcelona   \n",
       "\n",
       "  counts_Ruta  \n",
       "0       10201  \n",
       "1       10154  \n",
       "2       10060  \n",
       "3       10045  \n",
       "4       10009  \n",
       "5        9968  \n",
       "6        9955  \n",
       "7        9935  \n",
       "8        9931  \n",
       "9        9842  "
      ]
     },
     "execution_count": 21,
     "metadata": {},
     "output_type": "execute_result"
    }
   ],
   "source": [
    "dic_uniques = {\n",
    "    'Region':df['Region'].unique(),\n",
    "    'counts_Reg':df['Region'].value_counts(),\n",
    "    'Tipo_Transporte':df['Tipo_Transporte'].unique(),\n",
    "    'counts_Tipo':df['Tipo_Transporte'].value_counts(),\n",
    "    'Ruta':df['Ruta'].unique(),\n",
    "    'counts_Ruta':df['Ruta'].value_counts()\n",
    "}\n",
    "pd.DataFrame.from_dict(dic_uniques, orient='index').transpose()"
   ]
  },
  {
   "cell_type": "code",
   "execution_count": 4,
   "id": "18c0cc56-3510-4359-b8de-ceb700824f83",
   "metadata": {},
   "outputs": [
    {
     "data": {
      "text/plain": [
       "100"
      ]
     },
     "execution_count": 4,
     "metadata": {},
     "output_type": "execute_result"
    }
   ],
   "source": [
    "df.duplicated().sum()"
   ]
  },
  {
   "cell_type": "code",
   "execution_count": 36,
   "id": "e6e0c5e1-dd67-46e4-ab5c-4f877c71c330",
   "metadata": {},
   "outputs": [
    {
     "data": {
      "text/plain": [
       "ID_Viaje                     0\n",
       "Fecha                        0\n",
       "Ruta                         0\n",
       "Numero_Pasajeros          1001\n",
       "Duracion_Viaje_Minutos     333\n",
       "Retraso_Minutos              0\n",
       "Tipo_Transporte              0\n",
       "Region                       0\n",
       "Dia_Semana                   0\n",
       "dtype: int64"
      ]
     },
     "execution_count": 36,
     "metadata": {},
     "output_type": "execute_result"
    }
   ],
   "source": [
    "df.isnull().sum()"
   ]
  },
  {
   "cell_type": "code",
   "execution_count": 37,
   "id": "415f21b9-5a4a-4437-af40-9ad0994ee1b2",
   "metadata": {},
   "outputs": [
    {
     "name": "stdout",
     "output_type": "stream",
     "text": [
      "Numero_Pasajeros tiene 1001 (1.001%) missing values.\n",
      "Duracion_Viaje_Minutos tiene 333 (0.333%) missing values.\n"
     ]
    }
   ],
   "source": [
    "pasajeros = df['Numero_Pasajeros'].isna().sum()\n",
    "duracion = df['Duracion_Viaje_Minutos'].isna().sum()\n",
    "print(f\"Numero_Pasajeros tiene {pasajeros} ({pasajeros/100000*100}%) missing values.\")\n",
    "print(f\"Duracion_Viaje_Minutos tiene {duracion} ({duracion/100000*100}%) missing values.\")"
   ]
  },
  {
   "cell_type": "code",
   "execution_count": 22,
   "id": "d1d8647d-28ed-4d8a-97cb-103f58bf76be",
   "metadata": {},
   "outputs": [
    {
     "name": "stdout",
     "output_type": "stream",
     "text": [
      "                     ID_Viaje  Numero_Pasajeros  Retraso_Minutos\n",
      "Tipo_Transporte                                                 \n",
      "Metro            50530.758922         54.434216        64.569432\n",
      "Tranvía          49715.971576         54.507707        64.232858\n",
      "Autobús          49674.051081         54.386768        64.007576\n",
      "Tren             49883.957711         54.531946        63.368267\n"
     ]
    }
   ],
   "source": [
    "df_grouped = df.select_dtypes(include='number').groupby('Tipo_Transporte').mean()  # Select only numeric columns and group\n",
    "df_sorted_grouped = df_grouped.sort_values(by='Retraso_Minutos',ascending=False)\n",
    "print(df_sorted_grouped)"
   ]
  },
  {
   "cell_type": "code",
   "execution_count": 23,
   "id": "29fc6292-4815-42d6-abf1-42b65435c16e",
   "metadata": {},
   "outputs": [
    {
     "data": {
      "text/plain": [
       "<Axes: >"
      ]
     },
     "execution_count": 23,
     "metadata": {},
     "output_type": "execute_result"
    },
    {
     "data": {
      "image/png": "[encoded data removed]",
      "text/plain": [
       "<Figure size 640x480 with 1 Axes>"
      ]
     },
     "metadata": {},
     "output_type": "display_data"
    }
   ],
   "source": [
    "df.Tipo_Transporte.hist()"
   ]
  },
  {
   "cell_type": "code",
   "execution_count": 32,
   "id": "b2889575-9a22-4873-afe2-162cfa6abdf5",
   "metadata": {},
   "outputs": [
    {
     "data": {
      "image/png": "[encoded data removed]",
      "text/plain": [
       "<Figure size 640x480 with 2 Axes>"
      ]
     },
     "metadata": {},
     "output_type": "display_data"
    }
   ],
   "source": [
    "df_numeric = df.select_dtypes(include='number')\n",
    "sns.heatmap(df_numeric.corr(),annot=True)\n",
    "plt.rcParams['figure.figsize'] = (20,70)\n",
    "plt.show()"
   ]
  },
  {
   "cell_type": "code",
   "execution_count": 39,
   "id": "af9f54a8-505c-4430-9e37-2cba54150950",
   "metadata": {},
   "outputs": [
    {
     "data": {
      "image/png": "[encoded data removed]",
      "text/plain": [
       "<Figure size 2000x1000 with 1 Axes>"
      ]
     },
     "metadata": {},
     "output_type": "display_data"
    }
   ],
   "source": [
    "df_numeric.iloc[:,[1,2]].boxplot(figsize=(20,10))"
   ]
  },
  {
   "cell_type": "code",
   "execution_count": null,
   "id": "970149da-72f6-4468-a22d-dfae66afdd1d",
   "metadata": {},
   "outputs": [],
   "source": []
  }
 ],
 "metadata": {
  "kernelspec": {
   "display_name": "Python 3 (ipykernel)",
   "language": "python",
   "name": "python3"
  },
  "language_info": {
   "codemirror_mode": {
    "name": "ipython",
    "version": 3
   },
   "file_extension": ".py",
   "mimetype": "text/x-python",
   "name": "python",
   "nbconvert_exporter": "python",
   "pygments_lexer": "ipython3",
   "version": "3.12.3"
  }
 },
 "nbformat": 4,
 "nbformat_minor": 5
}
